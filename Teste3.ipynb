{
 "cells": [
  {
   "cell_type": "markdown",
   "id": "9ad3abe6",
   "metadata": {},
   "source": [
    "![CC-BY-SA](https://mirrors.creativecommons.org/presskit/buttons/88x31/svg/by-sa.svg)\n",
    "\n",
    "\n",
    "This notebook was created by [Bernardo Freitas Paulo da Costa](http://www.im.ufrj.br/bernardofpc),\n",
    "and is licensed under Creative Commons BY-SA."
   ]
  },
  {
   "cell_type": "markdown",
   "id": "a81c869e",
   "metadata": {},
   "source": [
    "Antes de enviar este Teste, verifique que tudo está funcionando como esperado.\n",
    "Por exemplo, **rode o código inteiro, do zero**.\n",
    "Para isso, vá no menu, escolha _Kernel_, depois _Restart & Run All_.\n",
    "\n",
    "Verifique, também, que você respondeu todas as questões:\n",
    "* as questões de código têm `YOUR CODE HERE` (e você pode apagar o `raise NotImplemented` ao incluir sua resposta)\n",
    "* as questões discursivas têm \"YOUR ANSWER HERE\"."
   ]
  },
  {
   "cell_type": "markdown",
   "id": "c3337a37",
   "metadata": {},
   "source": [
    "---"
   ]
  },
  {
   "cell_type": "code",
   "execution_count": 1,
   "id": "c5020d66",
   "metadata": {
    "deletable": false,
    "editable": false,
    "nbgrader": {
     "cell_type": "code",
     "checksum": "ebc0b71cb0a5401452c2251efbde0bc7",
     "grade": false,
     "grade_id": "imports",
     "locked": true,
     "schema_version": 3,
     "solution": false,
     "task": false
    }
   },
   "outputs": [],
   "source": [
    "import numpy as np\n",
    "import matplotlib.pyplot as plt"
   ]
  },
  {
   "cell_type": "code",
   "execution_count": 2,
   "id": "390bf81e",
   "metadata": {
    "deletable": false,
    "editable": false,
    "nbgrader": {
     "cell_type": "code",
     "checksum": "e86333feef50e532d47e83e71a58016a",
     "grade": false,
     "grade_id": "proximidade",
     "locked": true,
     "schema_version": 3,
     "solution": false,
     "task": false
    }
   },
   "outputs": [],
   "source": [
    "def veryclose(a, b): return np.isclose(a, b, atol=1e-12, rtol=1e-12)"
   ]
  },
  {
   "cell_type": "markdown",
   "id": "c985906a",
   "metadata": {},
   "source": [
    "# A convergência do método de Newton"
   ]
  },
  {
   "cell_type": "markdown",
   "id": "bfbdcd89",
   "metadata": {},
   "source": [
    "## Questão 1: Lista de iterados do método de Newton\n",
    "\n",
    "Dê abaixo o método de Newton, começando a partir do ponto x0, e retornando a lista de todos os pontos gerados.\n",
    "O método para quando:\n",
    "- ou o tamanho do passo é menor do que `atol`;\n",
    "- ou o tamanho do passo, relativo ao (valor absoluto do) próximo iterado, é menor do que `rtol`;\n",
    "- ou forem realizadas mais do que `maxiter` iterações."
   ]
  },
  {
   "cell_type": "code",
   "execution_count": 3,
   "id": "d54cfc02",
   "metadata": {
    "deletable": false,
    "nbgrader": {
     "cell_type": "code",
     "checksum": "b90d4fb7e486639695fbafd58c8800c1",
     "grade": false,
     "grade_id": "newton",
     "locked": false,
     "schema_version": 3,
     "solution": true,
     "task": false
    }
   },
   "outputs": [],
   "source": [
    "def newton(f, df, x0, atol=1e-8, rtol=1e-8, maxiter=100):\n",
    "    pontos_gerados =[x0]\n",
    "    for _ in range(maxiter):\n",
    "        x1 = x0 - f(x0)/df(x0)\n",
    "        pontos_gerados.append(x1)\n",
    "        err = abs(x1 - x0)\n",
    "        rel = err / abs(x1)\n",
    "        if err < atol or rel < rtol : break\n",
    "        x0 = x1\n",
    "    return pontos_gerados"
   ]
  },
  {
   "cell_type": "code",
   "execution_count": 4,
   "id": "db5435c9",
   "metadata": {
    "deletable": false,
    "editable": false,
    "nbgrader": {
     "cell_type": "code",
     "checksum": "8ec6931076a5ab1bef042bd162a5a6e8",
     "grade": true,
     "grade_id": "newton_test1",
     "locked": true,
     "points": 2,
     "schema_version": 3,
     "solution": false,
     "task": false
    }
   },
   "outputs": [],
   "source": [
    "L = newton(np.sin, np.cos, 3)\n",
    "assert len(L) == 4\n",
    "assert np.isclose(L[-1], np.pi)"
   ]
  },
  {
   "cell_type": "code",
   "execution_count": 5,
   "id": "66a6bb16",
   "metadata": {
    "deletable": false,
    "editable": false,
    "nbgrader": {
     "cell_type": "code",
     "checksum": "b3728bcaff46cc2562170e0cbb1db2f8",
     "grade": true,
     "grade_id": "cell-dae2339f05160ab3",
     "locked": true,
     "points": 1,
     "schema_version": 3,
     "solution": false,
     "task": false
    }
   },
   "outputs": [],
   "source": [
    "assert np.isclose(L[-2], np.pi)\n",
    "assert not veryclose(L[-2], np.pi)"
   ]
  },
  {
   "cell_type": "code",
   "execution_count": 6,
   "id": "a1c6a814",
   "metadata": {
    "deletable": false,
    "editable": false,
    "nbgrader": {
     "cell_type": "code",
     "checksum": "38390dee6cf72b6d75b4079b83255d25",
     "grade": false,
     "grade_id": "cell-a4cb867ac0014231",
     "locked": true,
     "schema_version": 3,
     "solution": false,
     "task": false
    }
   },
   "outputs": [],
   "source": [
    "def poly1(x):\n",
    "    return x**3 - x + 1"
   ]
  },
  {
   "cell_type": "markdown",
   "id": "c4b75a8e",
   "metadata": {},
   "source": [
    "Dê a derivada da função acima"
   ]
  },
  {
   "cell_type": "code",
   "execution_count": 7,
   "id": "f676b602",
   "metadata": {
    "deletable": false,
    "nbgrader": {
     "cell_type": "code",
     "checksum": "e2b52c262b36321a544758b6d445b718",
     "grade": true,
     "grade_id": "derivada",
     "locked": false,
     "points": 1,
     "schema_version": 3,
     "solution": true,
     "task": false
    }
   },
   "outputs": [],
   "source": [
    "def d_poly1(x):\n",
    "    return 3*x**2 - 1"
   ]
  },
  {
   "cell_type": "code",
   "execution_count": 8,
   "id": "da8780c0",
   "metadata": {
    "deletable": false,
    "editable": false,
    "nbgrader": {
     "cell_type": "code",
     "checksum": "3439674d238014404ad0b69b3847e916",
     "grade": true,
     "grade_id": "newton_test2",
     "locked": true,
     "points": 2,
     "schema_version": 3,
     "solution": false,
     "task": false
    }
   },
   "outputs": [],
   "source": [
    "L = newton(poly1, d_poly1, 1, atol=1e-9)\n",
    "assert len(L) == 22\n",
    "assert abs(poly1(L[-1])) < 1e-8"
   ]
  },
  {
   "cell_type": "markdown",
   "id": "1c3cc638",
   "metadata": {},
   "source": [
    "## Questão 2: Olhando uma convergência\n",
    "\n",
    "Observe o gráfico dos iterados produzidos pelo método.\n",
    "Como se deu a convergência?"
   ]
  },
  {
   "cell_type": "code",
   "execution_count": 9,
   "id": "ad8231e1",
   "metadata": {
    "deletable": false,
    "editable": false,
    "nbgrader": {
     "cell_type": "code",
     "checksum": "65b3241e1862897ba737582fbf206301",
     "grade": false,
     "grade_id": "graph_cvg",
     "locked": true,
     "schema_version": 3,
     "solution": false,
     "task": false
    }
   },
   "outputs": [
    {
     "data": {
      "text/plain": [
       "[<matplotlib.lines.Line2D at 0x7fd7e4eb7b20>]"
      ]
     },
     "execution_count": 9,
     "metadata": {},
     "output_type": "execute_result"
    },
    {
     "data": {
      "image/png": "[encoded data removed]",
      "text/plain": [
       "<Figure size 640x480 with 1 Axes>"
      ]
     },
     "metadata": {},
     "output_type": "display_data"
    }
   ],
   "source": [
    "plt.plot(L)"
   ]
  },
  {
   "cell_type": "markdown",
   "id": "07d2095e",
   "metadata": {
    "deletable": false,
    "nbgrader": {
     "cell_type": "markdown",
     "checksum": "3199d7e4a8e503154b7bfb0dbaae9572",
     "grade": true,
     "grade_id": "coment_cvg",
     "locked": false,
     "points": 2,
     "schema_version": 3,
     "solution": true,
     "task": false
    }
   },
   "source": [
    "A convergência não se deu de forma suave até a raiz. Houve pontos de distanciamento do valor esperado."
   ]
  },
  {
   "cell_type": "markdown",
   "id": "2e0224d9",
   "metadata": {},
   "source": [
    "Faça um gráfico da função polinomial que ajude a entender porque isso aconteceu."
   ]
  },
  {
   "cell_type": "code",
   "execution_count": 10,
   "id": "1d122239",
   "metadata": {
    "deletable": false,
    "nbgrader": {
     "cell_type": "code",
     "checksum": "99e56c3a958267fce35fbfdf025212d0",
     "grade": false,
     "grade_id": "plot_poly",
     "locked": false,
     "schema_version": 3,
     "solution": true,
     "task": false
    }
   },
   "outputs": [
    {
     "data": {
      "image/png": "[encoded data removed]",
      "text/plain": [
       "<Figure size 640x480 with 1 Axes>"
      ]
     },
     "metadata": {},
     "output_type": "display_data"
    }
   ],
   "source": [
    "xs = np.linspace(-2, 2, 100)\n",
    "plt.grid()\n",
    "plt.plot(xs, poly1(xs))\n",
    "\n",
    "ax = plt.gca()"
   ]
  },
  {
   "cell_type": "code",
   "execution_count": 11,
   "id": "2421649f",
   "metadata": {
    "deletable": false,
    "editable": false,
    "nbgrader": {
     "cell_type": "code",
     "checksum": "1e871d33a8d13427d82c2c8f348c2d3d",
     "grade": true,
     "grade_id": "graph_test",
     "locked": true,
     "points": 2,
     "schema_version": 3,
     "solution": false,
     "task": false
    }
   },
   "outputs": [],
   "source": [
    "l = ax.lines[0]\n",
    "\n",
    "valores = l.get_ydata()\n",
    "assert -8 < min(valores) < -1\n",
    "assert 10 > max(valores) > 2"
   ]
  },
  {
   "cell_type": "markdown",
   "id": "75533958",
   "metadata": {},
   "source": [
    "O que você deduz?"
   ]
  },
  {
   "cell_type": "markdown",
   "id": "7a0ad3ca",
   "metadata": {
    "deletable": false,
    "nbgrader": {
     "cell_type": "markdown",
     "checksum": "b3a1b665f47f54c2faf8a3016a3cab85",
     "grade": true,
     "grade_id": "graph_coment",
     "locked": false,
     "points": 2,
     "schema_version": 3,
     "solution": true,
     "task": false
    }
   },
   "source": [
    "O método de Newton não é muito bem comportado para toda escolha de pontos iniciais como o método da bisseção, por ex. Newton pode ficar 'ricocheteando' entre pontos sem nunca chegar na raiz."
   ]
  },
  {
   "cell_type": "markdown",
   "id": "db50c301",
   "metadata": {},
   "source": [
    "## Pontos periódicos\n",
    "\n",
    "É possível que, após 2 iterações do Método de Newton, estejamos próximos do ponto inicial.\n",
    "Se \"acertarmos a mira\", voltaremos exatamente ao ponto inicial."
   ]
  },
  {
   "cell_type": "markdown",
   "id": "4ae650f1",
   "metadata": {},
   "source": [
    "## Questão 3: Equação de pontos periódicos\n",
    "\n",
    "Determine uma equação **polinomial** que é satisfeita por um ponto 2-periódico para o método de Newton,\n",
    "aplicado à função polinomial $x^3 - x + 1$.\n",
    "\n",
    "Sugestão:\n",
    "- Primeiro, deixe em função de uma variável $y$ que representa o \"próximo ponto\", e simplifique o que puder.\n",
    "- Em seguida, substitua $y = N(x)/D(x)$, e elimine os denominadores para obter um polinômio. "
   ]
  },
  {
   "cell_type": "markdown",
   "id": "7721171d",
   "metadata": {
    "deletable": false,
    "nbgrader": {
     "cell_type": "markdown",
     "checksum": "f890930866098b2ebe325537bc0f4dee",
     "grade": true,
     "grade_id": "Eq_per",
     "locked": false,
     "points": 2,
     "schema_version": 3,
     "solution": true,
     "task": false
    }
   },
   "source": [
    "Para que $x_i = x_{i+2}$, temos que $x_1 = x_0 - \\frac{f(x_0)}{f'(x_0)}$ e $x_2 = x_0 = x_1 - \\frac{f(x_1)}{f'(x_1)}$\n",
    "\n",
    "consideramos então $y = x_1$ e $x = x_0$\n",
    "\n",
    "$x = y - (y^3-x+1)/(3y^2-1)$   tal que   $y = (2x^3-1)/(3x^2-1)$\n",
    "\n",
    "substituindo, temos\n",
    "\n",
    "$x(3 x^2 - 1) (12 x^6 - 9 x^4 - 12 x^3 + 6 x^2 + 2) = 16 x^9 - 51 x^6 + 27 x^4 + 12 x^3 - 9 x^2 - 1$"
   ]
  },
  {
   "cell_type": "markdown",
   "id": "299b447d",
   "metadata": {},
   "source": [
    "Qual o grau deste polinômio?"
   ]
  },
  {
   "cell_type": "markdown",
   "id": "93ac20d6",
   "metadata": {
    "deletable": false,
    "nbgrader": {
     "cell_type": "markdown",
     "checksum": "1f2e29838a06ed11f20ccff2360ce0f4",
     "grade": true,
     "grade_id": "grau_poly",
     "locked": false,
     "points": 1,
     "schema_version": 3,
     "solution": true,
     "task": false
    }
   },
   "source": [
    "Grau 9."
   ]
  },
  {
   "cell_type": "markdown",
   "id": "7c54286c",
   "metadata": {},
   "source": [
    "Agora, defina este polinômio.\n",
    "\n",
    "Dica: use o numerador e denominador como variáveis intermediárias!"
   ]
  },
  {
   "cell_type": "code",
   "execution_count": 12,
   "id": "11caeec4",
   "metadata": {
    "deletable": false,
    "nbgrader": {
     "cell_type": "code",
     "checksum": "422869af8c4646e7d1b5392122a17c82",
     "grade": false,
     "grade_id": "poly_fun",
     "locked": false,
     "schema_version": 3,
     "solution": true,
     "task": false
    }
   },
   "outputs": [],
   "source": [
    "def periodo2(x):\n",
    "    N = 16*x**9-51*x**6+27*x**4+12*x**3-9*x**2-1\n",
    "    D = x*(3*x**2-1)*(12*x**6-9*x**4-12*x**3+6*x**2+2)\n",
    "    return D-N"
   ]
  },
  {
   "cell_type": "code",
   "execution_count": 13,
   "id": "9c3c8ecb",
   "metadata": {
    "deletable": false,
    "editable": false,
    "nbgrader": {
     "cell_type": "code",
     "checksum": "89f3f10daf8e443568b9a08361506eab",
     "grade": true,
     "grade_id": "cell-1ae9a34ec5c64f5c",
     "locked": true,
     "points": 2,
     "schema_version": 3,
     "solution": false,
     "task": false
    }
   },
   "outputs": [],
   "source": [
    "assert 0.1 < periodo2(1/np.sqrt(3)) < 10"
   ]
  },
  {
   "cell_type": "markdown",
   "id": "bfc2e9c2",
   "metadata": {},
   "source": [
    "## Questão 4: Análise dos pontos de período 2\n",
    "\n",
    "Faça um gráfico deste polinômio."
   ]
  },
  {
   "cell_type": "code",
   "execution_count": 14,
   "id": "6b74c0cc",
   "metadata": {
    "deletable": false,
    "nbgrader": {
     "cell_type": "code",
     "checksum": "d08de7a3737d987e817af18b4c39cead",
     "grade": true,
     "grade_id": "graph_poly_per",
     "locked": false,
     "points": 1,
     "schema_version": 3,
     "solution": true,
     "task": false
    }
   },
   "outputs": [
    {
     "data": {
      "text/plain": [
       "[<matplotlib.lines.Line2D at 0x7fd7e2d31670>]"
      ]
     },
     "execution_count": 14,
     "metadata": {},
     "output_type": "execute_result"
    },
    {
     "data": {
      "image/png": "[encoded data removed]",
      "text/plain": [
       "<Figure size 640x480 with 1 Axes>"
      ]
     },
     "metadata": {},
     "output_type": "display_data"
    }
   ],
   "source": [
    "xs = np.linspace(-2, 2, 100)\n",
    "ys = periodo2(xs)\n",
    "\n",
    "plt.grid()\n",
    "plt.plot(xs, ys)"
   ]
  },
  {
   "cell_type": "markdown",
   "id": "c88ecab7",
   "metadata": {},
   "source": [
    "Faça mais um gráfico, que (junto com o anterior) convença você que este polinômio só tem uma raiz."
   ]
  },
  {
   "cell_type": "code",
   "execution_count": 15,
   "id": "f5b12833",
   "metadata": {
    "deletable": false,
    "nbgrader": {
     "cell_type": "code",
     "checksum": "ede5cc62da83f2d247636bc37d5e874f",
     "grade": true,
     "grade_id": "graph_poly_per2",
     "locked": false,
     "points": 2,
     "schema_version": 3,
     "solution": true,
     "task": false
    }
   },
   "outputs": [
    {
     "data": {
      "text/plain": [
       "[<matplotlib.lines.Line2D at 0x7fd7e2ca9190>]"
      ]
     },
     "execution_count": 15,
     "metadata": {},
     "output_type": "execute_result"
    },
    {
     "data": {
      "image/png": "[encoded data removed]",
      "text/plain": [
       "<Figure size 640x480 with 1 Axes>"
      ]
     },
     "metadata": {},
     "output_type": "display_data"
    }
   ],
   "source": [
    "xs = np.linspace(-1.5, -1, 100)\n",
    "ys = periodo2(xs)\n",
    "\n",
    "plt.grid()\n",
    "plt.plot(xs, ys)"
   ]
  },
  {
   "cell_type": "markdown",
   "id": "033ff29e",
   "metadata": {},
   "source": [
    "Que raiz é esta?\n",
    "Porque este ponto de período 2 faz sentido?"
   ]
  },
  {
   "cell_type": "markdown",
   "id": "126bc731",
   "metadata": {
    "deletable": false,
    "nbgrader": {
     "cell_type": "markdown",
     "checksum": "85fab05d4736f9cf9c36272fb6649bf2",
     "grade": true,
     "grade_id": "cell-727be1d15041b066",
     "locked": false,
     "points": 2,
     "schema_version": 3,
     "solution": true,
     "task": false
    }
   },
   "source": [
    "Esta raiz é a raiz da função $x^3-x+1$. Faz sentido pois, substituindo na formula para achar o próximo ponto, temos $x_1 = x_0$, o que depois resulta em $x_1 = x_2$."
   ]
  },
  {
   "cell_type": "markdown",
   "id": "a7d9cbb9",
   "metadata": {},
   "source": [
    "## Questão 5: Zeros duplos\n",
    "\n",
    "Vamos usar Newton fora das hipóteses de convergência quadrática..."
   ]
  },
  {
   "cell_type": "code",
   "execution_count": 16,
   "id": "effb9ee5",
   "metadata": {
    "deletable": false,
    "editable": false,
    "nbgrader": {
     "cell_type": "code",
     "checksum": "9e2cdcbef3b9eeefee1bff66b6f22511",
     "grade": true,
     "grade_id": "newton_test3",
     "locked": true,
     "points": 1,
     "schema_version": 3,
     "solution": false,
     "task": false
    }
   },
   "outputs": [],
   "source": [
    "def p2(x): return (x - 3)**2\n",
    "def dp2(x): return 2*x - 6\n",
    "\n",
    "L = newton(p2, dp2, 4, atol=1e-12, rtol=1e-12)\n",
    "assert len(L) == 40"
   ]
  },
  {
   "cell_type": "markdown",
   "id": "ff272e99",
   "metadata": {},
   "source": [
    "Faça um gráfico da convergência dos erros"
   ]
  },
  {
   "cell_type": "code",
   "execution_count": 17,
   "id": "e434cf71",
   "metadata": {
    "deletable": false,
    "nbgrader": {
     "cell_type": "code",
     "checksum": "f9c688fdfa274139f3bcc01bc56f42f1",
     "grade": false,
     "grade_id": "cell-ab4bd602201dd742",
     "locked": false,
     "schema_version": 3,
     "solution": true,
     "task": false
    }
   },
   "outputs": [
    {
     "data": {
      "image/png": "[encoded data removed]",
      "text/plain": [
       "<Figure size 640x480 with 1 Axes>"
      ]
     },
     "metadata": {},
     "output_type": "display_data"
    }
   ],
   "source": [
    "xs = list(range(len(L)))\n",
    "ys_abs = [abs(L[i]-3) for i in xs]\n",
    "ys_rel = [abs(L[i]-3)/3 for i in xs]\n",
    "\n",
    "plt.plot(xs, ys_abs, label=\"absoluto\")\n",
    "plt.plot(xs, ys_rel, label=\"relativo\")\n",
    "plt.xlabel(\"número iteração\")\n",
    "plt.legend()\n",
    "\n",
    "ax = plt.gca()"
   ]
  },
  {
   "cell_type": "code",
   "execution_count": 18,
   "id": "fcc6d623",
   "metadata": {
    "deletable": false,
    "editable": false,
    "nbgrader": {
     "cell_type": "code",
     "checksum": "517d9cb7e0361b7aa7f81f652fb1133f",
     "grade": true,
     "grade_id": "cell-f60f3eadb1efb69b",
     "locked": true,
     "points": 2,
     "schema_version": 3,
     "solution": false,
     "task": false
    }
   },
   "outputs": [],
   "source": [
    "l = ax.get_lines()[0]\n",
    "values = l.get_ydata()\n",
    "\n",
    "assert len(values) == 40\n",
    "assert max(values) == 1\n",
    "assert min(values) < 1e-10"
   ]
  },
  {
   "cell_type": "code",
   "execution_count": 19,
   "id": "fb87f4cb",
   "metadata": {
    "deletable": false,
    "editable": false,
    "nbgrader": {
     "cell_type": "code",
     "checksum": "fcc4a2dab2ffe756cd6f683c6c6034b8",
     "grade": true,
     "grade_id": "cell-89eebce05a0af3d9",
     "locked": true,
     "points": 1,
     "schema_version": 3,
     "solution": false,
     "task": false
    }
   },
   "outputs": [],
   "source": [
    "assert len(ax.get_xlabel()) > 5"
   ]
  },
  {
   "cell_type": "markdown",
   "id": "da716bb3",
   "metadata": {},
   "source": [
    "Qual a velocidade de convergência destas iterações?"
   ]
  },
  {
   "cell_type": "markdown",
   "id": "afd4bd29",
   "metadata": {
    "deletable": false,
    "nbgrader": {
     "cell_type": "markdown",
     "checksum": "75845f9b9baf6a58ea379ad6e1418c6e",
     "grade": true,
     "grade_id": "cell-79e77f3f21abc990",
     "locked": false,
     "points": 2,
     "schema_version": 3,
     "solution": true,
     "task": false
    }
   },
   "source": [
    "Dada uma análise dos valores dos erros, a velocidade de convergência é constante."
   ]
  },
  {
   "cell_type": "markdown",
   "id": "5e5b8500",
   "metadata": {},
   "source": [
    "Qual a fórmula exata do \"próximo ponto\" para este caso?\n",
    "Como isso explica o resultado acima?"
   ]
  },
  {
   "cell_type": "markdown",
   "id": "51bf5008",
   "metadata": {
    "deletable": false,
    "nbgrader": {
     "cell_type": "markdown",
     "checksum": "9cb5b90c2255c2dd0993cdad3cdf1848",
     "grade": true,
     "grade_id": "cell-b930773bf20d5303",
     "locked": false,
     "points": 2,
     "schema_version": 3,
     "solution": true,
     "task": false
    }
   },
   "source": [
    "$y = \\frac{x}{2}$, o que explica o resultado acima uma vez que a derivada desta função é $\\frac{1}{2}$."
   ]
  }
 ],
 "metadata": {
  "kernelspec": {
   "display_name": "Python 3.8.10 64-bit",
   "language": "python",
   "name": "python3"
  },
  "language_info": {
   "codemirror_mode": {
    "name": "ipython",
    "version": 3
   },
   "file_extension": ".py",
   "mimetype": "text/x-python",
   "name": "python",
   "nbconvert_exporter": "python",
   "pygments_lexer": "ipython3",
   "version": "3.8.10"
  },
  "vscode": {
   "interpreter": {
    "hash": "916dbcbb3f70747c44a77c7bcd40155683ae19c65e1c03b4aa3499c5328201f1"
   }
  }
 },
 "nbformat": 4,
 "nbformat_minor": 5
}
